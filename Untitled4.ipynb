{
 "cells": [
  {
   "cell_type": "code",
   "execution_count": 1,
   "id": "fe643351",
   "metadata": {},
   "outputs": [
    {
     "name": "stdout",
     "output_type": "stream",
     "text": [
      "you will not get bonus\n",
      "gross annual salary is 45000 \n",
      " bonus percent is 11.5%  \n",
      " salary after bonus is 50175.0\n",
      "6750.0 2750.0 1250.0\n"
     ]
    }
   ],
   "source": [
    "class employee():\n",
    "  \n",
    "  def cal_bonus(self,annual_salary):\n",
    "    if(annual_salary <= 20000):\n",
    "      annual_salary_bonus =annual_salary + (annual_salary/100)*12.5\n",
    "      print(annual_salary_bonus)\n",
    "\n",
    "    elif(annual_salary >= 21000 and annual_salary <= 50000):\n",
    "        bonus = 11.5\n",
    "        annual_salary_bonus = annual_salary + (annual_salary/100)*bonus\n",
    "        print(\"gross annual salary is {} \\n bonus percent is {}%  \\n salary after bonus is {}\".format(annual_salary,bonus,annual_salary_bonus))\n",
    "    elif(annual_salary >= 60000 ):\n",
    "        annual_salary += (annual_salary/100)*11.5\n",
    "        print(annual_salary)\n",
    "    else:\n",
    "      print(\"you will not get bonus\")\n",
    "  \n",
    "  def cal_net_annual_income(self,annual_salary):\n",
    "    taxes,benefits,reductions= 13.5, 5.5 , 2.5\n",
    "    tax = (annual_salary/100) * taxes\n",
    "    benefit= (annual_salary/100)*5.5\n",
    "    reduction = (annual_salary/100)*2.5\n",
    "    print(tax,benefit,reduction)\n",
    "\n"
   ]
  },
  {
   "cell_type": "code",
   "execution_count": null,
   "id": "1cd7a740",
   "metadata": {},
   "outputs": [],
   "source": []
  },
  {
   "cell_type": "code",
   "execution_count": 89,
   "id": "800868be",
   "metadata": {},
   "outputs": [],
   "source": [
    "class employee():\n",
    "    def __init__(self,annual_salary):\n",
    "        self.before_bonus= annual_salary\n",
    "        add_bonus(annual_salary)\n",
    "    def add_bonus(self,annual_salary):\n",
    "        \n",
    "        if (annual_salary <= 20000):\n",
    "            self.gross_salary = annual_salary + (annual_salary*12.5/100)\n",
    "            #return gross_salary\n",
    "        elif (annual_salary >= 21000 and annual_salary <= 50000):\n",
    "            self.gross_salary = annual_salary + (annual_salary*11.5/100)\n",
    "            #return gross_salary\n",
    "        elif (annual_salary > 60000): \n",
    "            self.gross_salary = annual_salary + (annual_salary*10.5/100)\n",
    "            #return gross_salary\n",
    "        else:\n",
    "            self.gross_salary =  annual_salary\n",
    "        print('hi')\n",
    "    def cal_net_an_income(self,gross_salary):\n",
    "        \n",
    "        tax_rate, bnft_rate, other_red_rate= 13.5, 5.5, 2.5\n",
    "        dict['tax_am'] = (gross_salary*tax_rate/100)\n",
    "        dict['bnft_am'] = (gross_salary*bnft_rate/100)\n",
    "        dict['other_red_am'] = (gross_salary*other_red_rate/100)\n",
    "        dict['total'] = tax_am + bnft_am + other_red_am\n",
    "        return dict\n",
    "        print_pay(gross_salary)\n",
    "    \n",
    "    def display_pay(self,gross_salary):\n",
    "        print(\"before bonus\",before_bonus)\n",
    "        add_bonus(self.annual_salary)\n",
    "        print(\"gross income\",gross_salary)\n",
    "        \n",
    "        print(\"total tax\",dict.get('total'))\n",
    "        \n",
    "        \n",
    "\n",
    "jay = employee(30000)\n",
    "\n",
    "\n",
    "        "
   ]
  },
  {
   "cell_type": "code",
   "execution_count": null,
   "id": "8ea15ff4",
   "metadata": {},
   "outputs": [],
   "source": []
  },
  {
   "cell_type": "code",
   "execution_count": 77,
   "id": "9ba6f74a",
   "metadata": {},
   "outputs": [
    {
     "name": "stdout",
     "output_type": "stream",
     "text": [
      "{'tax_am': 0.135, 'bnft_am': 0.055, 'other_red_am': 0.025, 'total': 0.215}\n"
     ]
    }
   ],
   "source": [
    "global gross_salary\n",
    "\n",
    "def add_bonus(annual_salary):\n",
    "        before_bonus = annual_salary\n",
    "        if (annual_salary <= 20000):\n",
    "            gross_salary = annual_salary + (annual_salary*12.5/100)\n",
    "            return gross_salary\n",
    "        elif (annual_salary >= 21000 and annual_salary <= 50000):\n",
    "            gross_salary = annual_salary + (annual_salary*11.5/100)\n",
    "            return gross_salary\n",
    "        elif (annual_salary >= 60000): \n",
    "            gross_salary = annual_salary + (annual_salary*10.5/100)\n",
    "            return gross_salary\n",
    "        elif (annual_salary >= 51000 and annual_salary <= 59000):\n",
    "            print(\"no bonus will be given due to a bureaucratic decision.\")\n",
    "            return annual_salary\n",
    "        else:\n",
    "            return annual_salary\n",
    "def cal_net_an_income(gross_salary):\n",
    "        \n",
    "        tax_rate, bnft_rate, other_red_rate= 13.5, 5.5, 2.5\n",
    "        dict1 = dict()\n",
    "        dict1['tax_am'] = gross_salary*tax_rate/100\n",
    "        dict1['bnft_am'] = (gross_salary*bnft_rate/100)\n",
    "        dict1['other_red_am'] = (gross_salary*other_red_rate/100)\n",
    "        dict1['total'] = dict1['tax_am'] + dict1['bnft_am'] + dict1['other_red_am']\n",
    "        return dict1\n",
    "       \n",
    "add_bonus(40000)\n",
    "dict1 = cal_net_an_income(1)\n",
    "print(dict1)"
   ]
  },
  {
   "cell_type": "code",
   "execution_count": null,
   "id": "03df3830",
   "metadata": {},
   "outputs": [],
   "source": []
  },
  {
   "cell_type": "code",
   "execution_count": null,
   "id": "39d8bd26",
   "metadata": {},
   "outputs": [],
   "source": []
  }
 ],
 "metadata": {
  "kernelspec": {
   "display_name": "Python 3 (ipykernel)",
   "language": "python",
   "name": "python3"
  },
  "language_info": {
   "codemirror_mode": {
    "name": "ipython",
    "version": 3
   },
   "file_extension": ".py",
   "mimetype": "text/x-python",
   "name": "python",
   "nbconvert_exporter": "python",
   "pygments_lexer": "ipython3",
   "version": "3.9.12"
  }
 },
 "nbformat": 4,
 "nbformat_minor": 5
}
