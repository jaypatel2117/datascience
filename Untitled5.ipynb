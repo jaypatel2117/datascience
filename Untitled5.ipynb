{
 "cells": [
  {
   "cell_type": "code",
   "execution_count": 8,
   "id": "d224e36b",
   "metadata": {},
   "outputs": [
    {
     "name": "stdout",
     "output_type": "stream",
     "text": [
      "enter company's name: fg\n",
      "enter employee's name: fg\n",
      "enter employee's designation: fg\n",
      "enter employee's salary (only in digits): 30000\n",
      "annual salary :$30000.0  \n",
      "bonus (11.5%) :$3450.0 \n",
      "gross annual income :$33450.0\n",
      " \n",
      "Deductible (Taxes 13.5%): 4515.75 \n",
      "Deductible (Benefits 5.5%): 1839.75 \n",
      "Deductible (Reductions 2.5%): 836.25 \n",
      "Deductibles (Total): 7191.75\n",
      "----------------------------------\n",
      "annual salary :$2500.0  \n",
      "bonus (12.5%) :$312.5 \n",
      "gross annual income :$2812.5\n",
      " \n",
      "Deductible (Taxes 13.5%): 379.6875 \n",
      "Deductible (Benefits 5.5%): 154.6875 \n",
      "Deductible (Reductions 2.5%): 70.3125 \n",
      "Deductibles (Total): 604.6875\n"
     ]
    },
    {
     "data": {
      "text/plain": [
       "{'taxes': 379.6875,\n",
       " 'bnft': 154.6875,\n",
       " 'reductions': 70.3125,\n",
       " 'total': 604.6875,\n",
       " 'net_income': 2207.8125}"
      ]
     },
     "execution_count": 8,
     "metadata": {},
     "output_type": "execute_result"
    }
   ],
   "source": [
    "class employee():\n",
    "    def __init__(self,annual_salary):\n",
    "        self.annual_salary= annual_salary\n",
    "    def add_bonus(self):\n",
    "        \n",
    "        if (self.annual_salary <= 20000):\n",
    "            self.gross_salary = self.annual_salary + (self.annual_salary*12.5/100)\n",
    "            self.bonus = self.annual_salary*12.5/100\n",
    "            self.bonus_pct = 12.5\n",
    "            #return gross_salaryself.\n",
    "        elif (self.annual_salary >= 21000 and self.annual_salary <= 50000):\n",
    "            self.gross_salary = self.annual_salary + (self.annual_salary*11.5/100)\n",
    "            self.bonus = self.annual_salary*11.5/100\n",
    "            self.bonus_pct = 11.5\n",
    "            #return gross_salary\n",
    "        elif (self.annual_salary > 60000): \n",
    "            self.gross_salary = self.annual_salary + (self.annual_salary*10.5/100)\n",
    "            self.bonus = self.annual_salary*10.5/100\n",
    "            self.bonus_pct = 10.5\n",
    "            #return gross_salary\n",
    "        else:\n",
    "            self.gross_salary =  self.annual_salary\n",
    "            self.bonus = 0\n",
    "            self.bonus_pct = 0\n",
    "        print(\"annual salary :${}\".format(float(self.annual_salary)),\n",
    "              \" \\nbonus ({0}%) :${1}\".format(self.bonus_pct,self.bonus),\n",
    "              \"\\ngross annual income :${}\".format(self.gross_salary))\n",
    "    def cal_net_an_income(self):\n",
    "        dict1 = dict()\n",
    "        taxes, bnft, reductions= 13.5, 5.5, 2.5\n",
    "        dict1['taxes'] = (self.gross_salary*taxes/100)\n",
    "        dict1['bnft'] = (self.gross_salary*bnft/100)\n",
    "        dict1['reductions'] = (self.gross_salary*reductions/100)\n",
    "        dict1['total'] = dict1.get('taxes') + dict1.get('bnft') + dict1.get('reductions')\n",
    "        dict1['net_income'] = self.gross_salary - dict1.get('total')\n",
    "        print(\" \\nDeductible (Taxes 13.5%): {}\".format(dict1.get('taxes')),\n",
    "               \"\\nDeductible (Benefits 5.5%): {}\".format(dict1.get('bnft')),\n",
    "               \"\\nDeductible (Reductions 2.5%): {}\".format(dict1.get('reductions')),\n",
    "                \"\\nDeductibles (Total): {}\".format(dict1.get('total')))\n",
    "                                    \n",
    "        return dict1\n",
    "              \n",
    "              \n",
    "         \n",
    "              \n",
    "              \n",
    "    \n",
    "    def display_pay(self,gross_salary):\n",
    "        print(\"before bonus\",before_bonus)\n",
    "        add_bonus(self.annual_salary)\n",
    "        print(\"gross income\",gross_salary)\n",
    "        \n",
    "\n",
    "        print(\"total tax\",dict.get('total'))\n",
    "        \n",
    "cname = input(\"enter company's name: \")\n",
    "name = input(\"enter employee's name: \")\n",
    "position = input(\"enter employee's designation: \")\n",
    "salary = int(input(\"enter employee's salary (only in digits): \"))\n",
    "month = salary/12\n",
    "\n",
    "jay = employee(salary)\n",
    "jay.add_bonus()\n",
    "jay.cal_net_an_income()\n",
    "\n"
   ]
  },
  {
   "cell_type": "code",
   "execution_count": null,
   "id": "74c46b8a",
   "metadata": {},
   "outputs": [],
   "source": [
    "1+2"
   ]
  },
  {
   "cell_type": "code",
   "execution_count": null,
   "id": "b8c58253",
   "metadata": {},
   "outputs": [],
   "source": []
  },
  {
   "cell_type": "code",
   "execution_count": null,
   "id": "814f9b3d",
   "metadata": {},
   "outputs": [],
   "source": []
  },
  {
   "cell_type": "code",
   "execution_count": null,
   "id": "d7a60e52",
   "metadata": {},
   "outputs": [],
   "source": []
  },
  {
   "cell_type": "code",
   "execution_count": null,
   "id": "b1727fcd",
   "metadata": {},
   "outputs": [],
   "source": []
  }
 ],
 "metadata": {
  "kernelspec": {
   "display_name": "Python 3 (ipykernel)",
   "language": "python",
   "name": "python3"
  },
  "language_info": {
   "codemirror_mode": {
    "name": "ipython",
    "version": 3
   },
   "file_extension": ".py",
   "mimetype": "text/x-python",
   "name": "python",
   "nbconvert_exporter": "python",
   "pygments_lexer": "ipython3",
   "version": "3.9.12"
  }
 },
 "nbformat": 4,
 "nbformat_minor": 5
}
