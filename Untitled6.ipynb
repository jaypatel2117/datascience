{
 "cells": [
  {
   "cell_type": "code",
   "execution_count": 2,
   "id": "fa536669",
   "metadata": {},
   "outputs": [
    {
     "name": "stdout",
     "output_type": "stream",
     "text": [
      "enter company's name: df\n",
      "enter employee's name: df\n",
      "enter employee's designation: df\n",
      "enter employee's salary (only in digits): 10000\n"
     ]
    }
   ],
   "source": [
    "import datetime\n",
    "cname = input(\"enter company's name: \")\n",
    "name = input(\"enter employee's name: \")\n",
    "position = input(\"enter employee's designation: \")\n",
    "salary = int(input(\"enter employee's salary (only in digits): \"))"
   ]
  },
  {
   "cell_type": "code",
   "execution_count": 3,
   "id": "7f979739",
   "metadata": {},
   "outputs": [],
   "source": [
    "def add_bonus(annual_salary=salary):\n",
    "        global gross_salary,bonus,bonus_pct\n",
    "        if (annual_salary <= 20000):\n",
    "            gross_salary = annual_salary + (annual_salary*12.5/100)\n",
    "            bonus = annual_salary*12.5/100\n",
    "            bonus_pct = 12.5\n",
    "            #return gross_salary\n",
    "        elif (annual_salary >= 21000 and annual_salary <= 50000):\n",
    "            gross_salary = annual_salary + (annual_salary*11.5/100)\n",
    "            bonus = annual_salary*11.5/100\n",
    "            bonus_pct = 11.5\n",
    "            #return gross_salary\n",
    "        elif (annual_salary > 60000): \n",
    "            gross_salary = annual_salary + (annual_salary*10.5/100)\n",
    "            bonus = annual_salary*10.5/100\n",
    "            bonus_pct = 10.5\n",
    "            #return gross_salary\n",
    "        else:\n",
    "            gross_salary =  annual_salary\n",
    "            bonus = 0\n",
    "            bonus_pct = 0\n",
    "        \n",
    "        cal_net_an_income()"
   ]
  },
  {
   "cell_type": "code",
   "execution_count": 4,
   "id": "d14079ea",
   "metadata": {},
   "outputs": [],
   "source": [
    "def cal_net_an_income():\n",
    "        global dict1\n",
    "        dict1 = dict()\n",
    "        taxes, bnft, reductions= 13.5, 5.5, 2.5\n",
    "        dict1['taxes'] = (gross_salary*taxes/100)\n",
    "        dict1['bnft'] = (gross_salary*bnft/100)\n",
    "        dict1['reductions'] = (gross_salary*reductions/100)\n",
    "        dict1['total'] = dict1.get('taxes') + dict1.get('bnft') + dict1.get('reductions')\n",
    "        dict1['net_income'] = gross_salary - dict1.get('total')\n",
    "        display()          \n",
    "        display_monthly()\n",
    "        display_weekly()"
   ]
  },
  {
   "cell_type": "code",
   "execution_count": 5,
   "id": "21e5e614",
   "metadata": {},
   "outputs": [],
   "source": [
    "def display():\n",
    "    print(\"\\t  ANNUAL VIEW\\n\")\n",
    "    \n",
    "    print(\"company name :{}\".format(cname),\n",
    "          \"\\nDate of Pay-Stub:{}\".format(datetime.datetime.today().strftime('%Y-%m-%d')))\n",
    "    print('\\n------------------------------------------------------------------',\n",
    "          \"\\nEmployee: \",name,\n",
    "          \"\\nPosition: \",position,\n",
    "          \"\\nannual salary :${}\".format(float(salary)),\n",
    "          \" \\nbonus ({0}%) :${1}\".format(bonus_pct,bonus),\n",
    "          \"\\ngross annual income :${}\".format(gross_salary))\n",
    "    print(\"\\n------------------------------------------------------\",\n",
    "          \" \\nDeductible (Taxes 13.5%): {}\".format(dict1.get('taxes')),\n",
    "          \"\\nDeductible (Benefits 5.5%): {}\".format(dict1.get('bnft')),\n",
    "          \"\\nDeductible (Reductions 2.5%): {}\".format(dict1.get('reductions')),\n",
    "          \"\\nDeductibles (Total): {}\".format(dict1.get('total')),\n",
    "          \"\\nNet Annual Income: {}\".format(dict1.get('net_income')) )\n",
    "\n",
    "    "
   ]
  },
  {
   "cell_type": "code",
   "execution_count": 6,
   "id": "ca755b88",
   "metadata": {},
   "outputs": [],
   "source": [
    "def display_monthly():\n",
    "    print(\"\\t  MONTHLY VIEW\\n\")\n",
    "    \n",
    "    print(\"company name :{}\".format(cname),\n",
    "          \"\\nDate of Pay-Stub:{}\".format(datetime.datetime.today().strftime('%Y-%m-%d')))\n",
    "    print('\\n------------------------------------------------------------------',\n",
    "          \"\\nEmployee: \",name,\n",
    "          \"\\nPosition: \",position,\n",
    "          \"\\nMONTHLY salary :${}\".format(float(salary/12)),\n",
    "          \" \\nbonus ({0}%) :${1}\".format(bonus_pct,bonus/12),\n",
    "          \"\\ngross MONTHLY income :${}\".format(gross_salary/12))\n",
    "    print(\"\\n------------------------------------------------------\",\n",
    "          \" \\nDeductible (Taxes 13.5%): {}\".format(dict1.get('taxes')/12),\n",
    "          \"\\nDeductible (Benefits 5.5%): {}\".format(dict1.get('bnft')/12),\n",
    "          \"\\nDeductible (Reductions 2.5%): {}\".format(dict1.get('reductions')/12),\n",
    "          \"\\nDeductibles (Total): {}\".format(dict1.get('total')/12),\n",
    "          \"\\n-----------------------------------------------------\"\n",
    "          \"\\nNet MONTHLY Income: {}\".format(dict1.get('net_income')/12) )\n",
    "    \n",
    "    \n"
   ]
  },
  {
   "cell_type": "code",
   "execution_count": null,
   "id": "a7374a1a",
   "metadata": {},
   "outputs": [],
   "source": []
  },
  {
   "cell_type": "code",
   "execution_count": 7,
   "id": "75567c1b",
   "metadata": {},
   "outputs": [],
   "source": [
    "def display_weekly():\n",
    "    print(\"\\t  BI-WEEKLY VIEW\\n\")\n",
    "    \n",
    "    print(\"company name :{}\".format(cname),\n",
    "          \"\\nDate of Pay-Stub:{}\".format(datetime.datetime.today().strftime('%Y-%m-%d')))\n",
    "    print('\\n------------------------------------------------------------------',\n",
    "          \"\\nEmployee: \",name,\n",
    "          \"\\nPosition: \",position,\n",
    "          \"\\nBI-WEEKLY salary :${}\".format(float(salary/24)),\n",
    "          \" \\nbonus ({0}%) :${1}\".format(bonus_pct,bonus/24),\n",
    "          \"\\ngross BI-WEEKLY income :${}\".format(gross_salary/24))\n",
    "    print(\"\\n------------------------------------------------------\",\n",
    "          \" \\nDeductible (Taxes 13.5%): {}\".format(dict1.get('taxes')/24),\n",
    "          \"\\nDeductible (Benefits 5.5%): {}\".format(dict1.get('bnft')/24),\n",
    "          \"\\nDeductible (Reductions 2.5%): {}\".format(dict1.get('reductions')/24),\n",
    "          \"\\nDeductibles (Total): {}\".format(dict1.get('total')/24),\n",
    "          \"\\n-----------------------------------------------------\"\n",
    "          \"\\nNet BI-WEEKLY Income: {}\".format(dict1.get('net_income')/24) )\n",
    "    "
   ]
  },
  {
   "cell_type": "code",
   "execution_count": null,
   "id": "2b1f5046",
   "metadata": {},
   "outputs": [],
   "source": []
  },
  {
   "cell_type": "code",
   "execution_count": null,
   "id": "10cc5480",
   "metadata": {},
   "outputs": [],
   "source": [
    "for i in range(6):\n",
    "    print(\"employee \", i,\"\\n\")\n",
    "    cname = input(\"enter company's name: \")\n",
    "    name = input(\"enter employee's name: \")\n",
    "    position = input(\"enter employee's designation: \")\n",
    "    salary = int(input(\"enter employee's salary (only in digits): \"))\n",
    "    add_bonus(salary)"
   ]
  },
  {
   "cell_type": "code",
   "execution_count": null,
   "id": "976ddf66",
   "metadata": {},
   "outputs": [],
   "source": [
    "bool = input(\"enter company's name: \")"
   ]
  },
  {
   "cell_type": "code",
   "execution_count": null,
   "id": "b285b2f7",
   "metadata": {},
   "outputs": [],
   "source": []
  },
  {
   "cell_type": "code",
   "execution_count": null,
   "id": "9b74ca05",
   "metadata": {},
   "outputs": [],
   "source": []
  },
  {
   "cell_type": "code",
   "execution_count": null,
   "id": "b7c2c479",
   "metadata": {},
   "outputs": [],
   "source": []
  },
  {
   "cell_type": "code",
   "execution_count": null,
   "id": "2f6d01e6",
   "metadata": {},
   "outputs": [],
   "source": []
  },
  {
   "cell_type": "code",
   "execution_count": null,
   "id": "69d88bbb",
   "metadata": {},
   "outputs": [],
   "source": []
  },
  {
   "cell_type": "code",
   "execution_count": null,
   "id": "6d75aaed",
   "metadata": {},
   "outputs": [],
   "source": []
  },
  {
   "cell_type": "code",
   "execution_count": null,
   "id": "0a781979",
   "metadata": {},
   "outputs": [],
   "source": []
  }
 ],
 "metadata": {
  "kernelspec": {
   "display_name": "Python 3 (ipykernel)",
   "language": "python",
   "name": "python3"
  },
  "language_info": {
   "codemirror_mode": {
    "name": "ipython",
    "version": 3
   },
   "file_extension": ".py",
   "mimetype": "text/x-python",
   "name": "python",
   "nbconvert_exporter": "python",
   "pygments_lexer": "ipython3",
   "version": "3.9.12"
  }
 },
 "nbformat": 4,
 "nbformat_minor": 5
}
