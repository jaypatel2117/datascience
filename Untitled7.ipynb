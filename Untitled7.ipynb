{
 "cells": [
  {
   "cell_type": "code",
   "execution_count": null,
   "id": "393d5066",
   "metadata": {},
   "outputs": [],
   "source": [
    "i =j = 1\n",
    "while i==1:\n",
    "    print(\"enter details of employee\")\n",
    "    cname = input(\"enter company's name: \")\n",
    "    name = input(\"enter employee's name: \")\n",
    "    position = input(\"enter employee's designation: \")\n",
    "    salary = int(input(\"enter employee's salary (only in digits): \"))\n",
    "    while j == 1:\n",
    "        print(\"select any option \\n1 : annual \\n 2:monthly \\n 3: bi-weekly\n",
    "              \")\n",
    "        view = int(input(\"enter \"))\n",
    "        if view == 1:\n",
    "            annualy()\n",
    "        elif view == 2:\n",
    "            monthly()\n",
    "        elif view == 3:\n",
    "            bi_weekly()\n",
    "        else:\n",
    "            print(\"wrong input\")\n",
    "        print(\"press 1 to see again or 0 to exit\")\n",
    "        j = int(input(\"enter \"))\n",
    "    print(\"press 1 to enter 2nd employee or 0 to exit\")\n",
    "    i = int(input(\"enter \"))\n",
    "        \n",
    "            "
   ]
  },
  {
   "cell_type": "code",
   "execution_count": null,
   "id": "565da716",
   "metadata": {},
   "outputs": [],
   "source": []
  },
  {
   "cell_type": "code",
   "execution_count": null,
   "id": "6e76c281",
   "metadata": {},
   "outputs": [],
   "source": []
  },
  {
   "cell_type": "code",
   "execution_count": null,
   "id": "95470539",
   "metadata": {},
   "outputs": [],
   "source": []
  },
  {
   "cell_type": "code",
   "execution_count": null,
   "id": "3782060e",
   "metadata": {},
   "outputs": [],
   "source": []
  },
  {
   "cell_type": "code",
   "execution_count": null,
   "id": "694e43f1",
   "metadata": {},
   "outputs": [],
   "source": []
  }
 ],
 "metadata": {
  "kernelspec": {
   "display_name": "Python 3 (ipykernel)",
   "language": "python",
   "name": "python3"
  },
  "language_info": {
   "codemirror_mode": {
    "name": "ipython",
    "version": 3
   },
   "file_extension": ".py",
   "mimetype": "text/x-python",
   "name": "python",
   "nbconvert_exporter": "python",
   "pygments_lexer": "ipython3",
   "version": "3.9.12"
  }
 },
 "nbformat": 4,
 "nbformat_minor": 5
}
