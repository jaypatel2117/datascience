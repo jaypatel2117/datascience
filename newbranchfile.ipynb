{
 "cells": [
  {
   "cell_type": "code",
   "execution_count": null,
   "id": "eb35b481",
   "metadata": {},
   "outputs": [],
   "source": []
  },
  {
   "cell_type": "code",
   "execution_count": 3,
   "id": "766d57ce",
   "metadata": {},
   "outputs": [],
   "source": [
    "import numpy as np"
   ]
  },
  {
   "cell_type": "code",
   "execution_count": 60,
   "id": "f66b589d",
   "metadata": {},
   "outputs": [
    {
     "name": "stdout",
     "output_type": "stream",
     "text": [
      "matrix A :\n",
      " [[-8  5]\n",
      " [ 6  6]]\n",
      "matrix p:\n",
      " [[ 5 -2]\n",
      " [-4  2]]\n",
      "inverse of p:\n",
      " [[1.  1. ]\n",
      " [2.  2.5]]\n",
      "p(-1) x A x P is:\n",
      " [[ -54.   26.]\n",
      " [-105.   52.]]\n"
     ]
    }
   ],
   "source": [
    "a = np.array([[-8,5],[6,6]])\n",
    "print(\"matrix A :\\n\",a)\n",
    "p = np.array([[5,-2],[-4,2]])\n",
    "print(\"matrix p:\\n\",p)\n",
    "pn = np.linalg.inv(p)\n",
    "print(\"inverse of p:\\n\",pn)\n",
    "c = np.matmul(a,p)\n",
    "print(\"p(-1) x A x P is:\\n\",np.matmul(pn,c))\n"
   ]
  },
  {
   "cell_type": "code",
   "execution_count": 42,
   "id": "2c6ee9f6",
   "metadata": {},
   "outputs": [
    {
     "data": {
      "text/plain": [
       "array([ 1.00000000e+00, -4.24780983e-16,  4.00000000e+00, -2.00000000e+00])"
      ]
     },
     "execution_count": 42,
     "metadata": {},
     "output_type": "execute_result"
    }
   ],
   "source": [
    "a = np.array([[2,1,-1,2],[3,4,0,1],[1,5,2,6],[5,2,-1,-1]])\n",
    "b = np.array([-6,1,-3,3])\n",
    "np.linalg.solve(a,b)"
   ]
  },
  {
   "cell_type": "code",
   "execution_count": 29,
   "id": "ff00e688",
   "metadata": {},
   "outputs": [
    {
     "data": {
      "text/plain": [
       "(array([16.,  0.]),\n",
       " array([[ 0.9701425 ,  0.9701425 ],\n",
       "        [-0.24253563,  0.24253563]]))"
      ]
     },
     "execution_count": 29,
     "metadata": {},
     "output_type": "execute_result"
    }
   ],
   "source": [
    "a = np.array([[8,-32],[-2,8]])\n"
   ]
  },
  {
   "cell_type": "code",
   "execution_count": 26,
   "id": "dbce5053",
   "metadata": {},
   "outputs": [
    {
     "data": {
      "text/plain": [
       "198"
      ]
     },
     "execution_count": 26,
     "metadata": {},
     "output_type": "execute_result"
    }
   ],
   "source": []
  }
 ],
 "metadata": {
  "kernelspec": {
   "display_name": "Python 3 (ipykernel)",
   "language": "python",
   "name": "python3"
  },
  "language_info": {
   "codemirror_mode": {
    "name": "ipython",
    "version": 3
   },
   "file_extension": ".py",
   "mimetype": "text/x-python",
   "name": "python",
   "nbconvert_exporter": "python",
   "pygments_lexer": "ipython3",
   "version": "3.9.12"
  }
 },
 "nbformat": 4,
 "nbformat_minor": 5
}
